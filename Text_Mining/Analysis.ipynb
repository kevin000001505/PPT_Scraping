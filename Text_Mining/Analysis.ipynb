{
 "cells": [
  {
   "cell_type": "code",
   "execution_count": 1,
   "metadata": {},
   "outputs": [],
   "source": [
    "import mysql.connector\n",
    "import pandas as pd\n",
    "import numpy as np\n",
    "import torch\n",
    "import re\n",
    "import matplotlib.pyplot as plt"
   ]
  },
  {
   "cell_type": "code",
   "execution_count": 2,
   "metadata": {},
   "outputs": [],
   "source": [
    "connection = mysql.connector.connect(\n",
    "            host='localhost',\n",
    "            user='root',\n",
    "            password='@America155088',\n",
    "            database='PPT'\n",
    "            )"
   ]
  },
  {
   "cell_type": "code",
   "execution_count": 3,
   "metadata": {},
   "outputs": [
    {
     "name": "stderr",
     "output_type": "stream",
     "text": [
      "/var/folders/xp/1gy0dsh531s017q00bdzwmgw0000gn/T/ipykernel_50127/2071830198.py:2: UserWarning: pandas only supports SQLAlchemy connectable (engine/connection) or database string URI or sqlite3 DBAPI2 connection. Other DBAPI2 objects are not tested. Please consider using SQLAlchemy.\n",
      "  df = pd.read_sql(query, connection)\n"
     ]
    }
   ],
   "source": [
    "query = \"\"\" SELECT * FROM posts_details\"\"\"\n",
    "df = pd.read_sql(query, connection)"
   ]
  },
  {
   "cell_type": "code",
   "execution_count": 4,
   "metadata": {},
   "outputs": [],
   "source": [
    "df.dropna(inplace=True)"
   ]
  },
  {
   "cell_type": "code",
   "execution_count": 6,
   "metadata": {},
   "outputs": [],
   "source": [
    "df = df.drop(df[df['category'] == 'Re: [問卦] 女孩：我有藝術家脾氣 這啥意思？'].index)"
   ]
  },
  {
   "cell_type": "code",
   "execution_count": 28,
   "metadata": {},
   "outputs": [
    {
     "data": {
      "text/plain": [
       "category\n",
       "Gossiping    6083\n",
       "C_Chat        634\n",
       "NBA            55\n",
       "Stock          30\n",
       "Name: count, dtype: int64"
      ]
     },
     "execution_count": 28,
     "metadata": {},
     "output_type": "execute_result"
    }
   ],
   "source": [
    "df['category'].value_counts()"
   ]
  },
  {
   "cell_type": "code",
   "execution_count": 32,
   "metadata": {},
   "outputs": [],
   "source": [
    "def most_comment_post(data):\n",
    "    max_comment = data['comments'].str.split('/').apply(lambda x: len(x)).max()\n",
    "    print(f'max comment:{max_comment}')\n",
    "    return data[data['comments'].str.split('/').apply(lambda x: len(x)) == max_comment]"
   ]
  },
  {
   "cell_type": "code",
   "execution_count": 36,
   "metadata": {},
   "outputs": [
    {
     "name": "stdout",
     "output_type": "stream",
     "text": [
      "max comment:1499\n"
     ]
    },
    {
     "data": {
      "text/html": [
       "<div>\n",
       "<style scoped>\n",
       "    .dataframe tbody tr th:only-of-type {\n",
       "        vertical-align: middle;\n",
       "    }\n",
       "\n",
       "    .dataframe tbody tr th {\n",
       "        vertical-align: top;\n",
       "    }\n",
       "\n",
       "    .dataframe thead th {\n",
       "        text-align: right;\n",
       "    }\n",
       "</style>\n",
       "<table border=\"1\" class=\"dataframe\">\n",
       "  <thead>\n",
       "    <tr style=\"text-align: right;\">\n",
       "      <th></th>\n",
       "      <th>id</th>\n",
       "      <th>title</th>\n",
       "      <th>author</th>\n",
       "      <th>date</th>\n",
       "      <th>content</th>\n",
       "      <th>comments</th>\n",
       "      <th>category</th>\n",
       "    </tr>\n",
       "  </thead>\n",
       "  <tbody>\n",
       "    <tr>\n",
       "      <th>3128</th>\n",
       "      <td>3129</td>\n",
       "      <td>Re: [問卦] 所以當年一堆國家送我們AZ，是早知道?</td>\n",
       "      <td>ivorysoap (ivorysoap)</td>\n",
       "      <td>Fri May  3 13:26:07 2024</td>\n",
       "      <td>['※ 引述《lauwei (lauwei)》之銘言：\\n', ': 唉不是阿，AZ居然被證...</td>\n",
       "      <td>爆發前明明就一堆自費疫苗多到要丟掉==/哪有啥 大家都在等/當時有看新聞都知道吧/又在洗記憶...</td>\n",
       "      <td>Gossiping</td>\n",
       "    </tr>\n",
       "  </tbody>\n",
       "</table>\n",
       "</div>"
      ],
      "text/plain": [
       "        id                         title                 author  \\\n",
       "3128  3129  Re: [問卦] 所以當年一堆國家送我們AZ，是早知道?  ivorysoap (ivorysoap)   \n",
       "\n",
       "                          date  \\\n",
       "3128  Fri May  3 13:26:07 2024   \n",
       "\n",
       "                                                content  \\\n",
       "3128  ['※ 引述《lauwei (lauwei)》之銘言：\\n', ': 唉不是阿，AZ居然被證...   \n",
       "\n",
       "                                               comments   category  \n",
       "3128  爆發前明明就一堆自費疫苗多到要丟掉==/哪有啥 大家都在等/當時有看新聞都知道吧/又在洗記憶...  Gossiping  "
      ]
     },
     "execution_count": 36,
     "metadata": {},
     "output_type": "execute_result"
    }
   ],
   "source": [
    "most_comment_post(df[df['category'] == 'Gossiping'])"
   ]
  },
  {
   "cell_type": "code",
   "execution_count": 33,
   "metadata": {},
   "outputs": [
    {
     "name": "stdout",
     "output_type": "stream",
     "text": [
      "max comment:244\n"
     ]
    },
    {
     "data": {
      "text/html": [
       "<div>\n",
       "<style scoped>\n",
       "    .dataframe tbody tr th:only-of-type {\n",
       "        vertical-align: middle;\n",
       "    }\n",
       "\n",
       "    .dataframe tbody tr th {\n",
       "        vertical-align: top;\n",
       "    }\n",
       "\n",
       "    .dataframe thead th {\n",
       "        text-align: right;\n",
       "    }\n",
       "</style>\n",
       "<table border=\"1\" class=\"dataframe\">\n",
       "  <thead>\n",
       "    <tr style=\"text-align: right;\">\n",
       "      <th></th>\n",
       "      <th>id</th>\n",
       "      <th>title</th>\n",
       "      <th>author</th>\n",
       "      <th>date</th>\n",
       "      <th>content</th>\n",
       "      <th>comments</th>\n",
       "      <th>category</th>\n",
       "    </tr>\n",
       "  </thead>\n",
       "  <tbody>\n",
       "    <tr>\n",
       "      <th>5655</th>\n",
       "      <td>5656</td>\n",
       "      <td>Re: [新聞] 股神狠砍蘋果！波克夏對蘋果持股大減13％</td>\n",
       "      <td>cpa0426 (CC)</td>\n",
       "      <td>Sun May  5 12:51:44 2024</td>\n",
       "      <td>去研究了一下巴菲特的背景，股神巴菲特的父親曾是證券經紀員，之後還擔任兩任的議員，還成立了一間...</td>\n",
       "      <td>如果我有他那個環境，我也是在高盛的辦公室裡面玩/玩具/或者像超哥有那個環境跟資源的話，現在一...</td>\n",
       "      <td>Stock</td>\n",
       "    </tr>\n",
       "  </tbody>\n",
       "</table>\n",
       "</div>"
      ],
      "text/plain": [
       "        id                          title        author  \\\n",
       "5655  5656  Re: [新聞] 股神狠砍蘋果！波克夏對蘋果持股大減13％  cpa0426 (CC)   \n",
       "\n",
       "                          date  \\\n",
       "5655  Sun May  5 12:51:44 2024   \n",
       "\n",
       "                                                content  \\\n",
       "5655  去研究了一下巴菲特的背景，股神巴菲特的父親曾是證券經紀員，之後還擔任兩任的議員，還成立了一間...   \n",
       "\n",
       "                                               comments category  \n",
       "5655  如果我有他那個環境，我也是在高盛的辦公室裡面玩/玩具/或者像超哥有那個環境跟資源的話，現在一...    Stock  "
      ]
     },
     "execution_count": 33,
     "metadata": {},
     "output_type": "execute_result"
    }
   ],
   "source": [
    "most_comment_post(df[df['category'] == 'Stock'])"
   ]
  },
  {
   "cell_type": "code",
   "execution_count": 34,
   "metadata": {},
   "outputs": [
    {
     "name": "stdout",
     "output_type": "stream",
     "text": [
      "max comment:1475\n"
     ]
    },
    {
     "data": {
      "text/html": [
       "<div>\n",
       "<style scoped>\n",
       "    .dataframe tbody tr th:only-of-type {\n",
       "        vertical-align: middle;\n",
       "    }\n",
       "\n",
       "    .dataframe tbody tr th {\n",
       "        vertical-align: top;\n",
       "    }\n",
       "\n",
       "    .dataframe thead th {\n",
       "        text-align: right;\n",
       "    }\n",
       "</style>\n",
       "<table border=\"1\" class=\"dataframe\">\n",
       "  <thead>\n",
       "    <tr style=\"text-align: right;\">\n",
       "      <th></th>\n",
       "      <th>id</th>\n",
       "      <th>title</th>\n",
       "      <th>author</th>\n",
       "      <th>date</th>\n",
       "      <th>content</th>\n",
       "      <th>comments</th>\n",
       "      <th>category</th>\n",
       "    </tr>\n",
       "  </thead>\n",
       "  <tbody>\n",
       "    <tr>\n",
       "      <th>5995</th>\n",
       "      <td>5996</td>\n",
       "      <td>[討論] [Vtub] Hololive 晚間直播單 (1130505)</td>\n",
       "      <td>laptic (靜夜聖林彼岸花)</td>\n",
       "      <td>Sun May  5 18:00:23 2024</td>\n",
       "      <td>資料來源： 七詩無銘 電台 アルランディス 魔物獵人：世界 冰原 白上フブキ、人生つみこ、で...</td>\n",
       "      <td>博士開/好耶 還有法環/博士開/乙/洋蔥打太久急了就貪//開著空媽歌回看阿夸受難(X/博士有...</td>\n",
       "      <td>C_Chat</td>\n",
       "    </tr>\n",
       "  </tbody>\n",
       "</table>\n",
       "</div>"
      ],
      "text/plain": [
       "        id                                 title            author  \\\n",
       "5995  5996  [討論] [Vtub] Hololive 晚間直播單 (1130505)  laptic (靜夜聖林彼岸花)   \n",
       "\n",
       "                          date  \\\n",
       "5995  Sun May  5 18:00:23 2024   \n",
       "\n",
       "                                                content  \\\n",
       "5995  資料來源： 七詩無銘 電台 アルランディス 魔物獵人：世界 冰原 白上フブキ、人生つみこ、で...   \n",
       "\n",
       "                                               comments category  \n",
       "5995  博士開/好耶 還有法環/博士開/乙/洋蔥打太久急了就貪//開著空媽歌回看阿夸受難(X/博士有...   C_Chat  "
      ]
     },
     "execution_count": 34,
     "metadata": {},
     "output_type": "execute_result"
    }
   ],
   "source": [
    "most_comment_post(df[df['category'] == 'C_Chat'])"
   ]
  },
  {
   "cell_type": "code",
   "execution_count": 35,
   "metadata": {},
   "outputs": [
    {
     "name": "stdout",
     "output_type": "stream",
     "text": [
      "max comment:1498\n"
     ]
    },
    {
     "data": {
      "text/html": [
       "<div>\n",
       "<style scoped>\n",
       "    .dataframe tbody tr th:only-of-type {\n",
       "        vertical-align: middle;\n",
       "    }\n",
       "\n",
       "    .dataframe tbody tr th {\n",
       "        vertical-align: top;\n",
       "    }\n",
       "\n",
       "    .dataframe thead th {\n",
       "        text-align: right;\n",
       "    }\n",
       "</style>\n",
       "<table border=\"1\" class=\"dataframe\">\n",
       "  <thead>\n",
       "    <tr style=\"text-align: right;\">\n",
       "      <th></th>\n",
       "      <th>id</th>\n",
       "      <th>title</th>\n",
       "      <th>author</th>\n",
       "      <th>date</th>\n",
       "      <th>content</th>\n",
       "      <th>comments</th>\n",
       "      <th>category</th>\n",
       "    </tr>\n",
       "  </thead>\n",
       "  <tbody>\n",
       "    <tr>\n",
       "      <th>5590</th>\n",
       "      <td>5591</td>\n",
       "      <td>[Live] 灰狼 @ 金塊 (西區第二輪Game1)</td>\n",
       "      <td>jason911152 (你不要過來啊)</td>\n",
       "      <td>Sun May  5 06:30:01 2024</td>\n",
       "      <td>明尼蘇達灰狼(0-0)VS丹佛金塊(0-0) Game1 即時分數: Mike Conley...</td>\n",
       "      <td>金塊加油//森林狼贏6-10/這場刺激/金塊罰球應該會比較多 買一張樂透/阿肥加油/金塊主場...</td>\n",
       "      <td>NBA</td>\n",
       "    </tr>\n",
       "  </tbody>\n",
       "</table>\n",
       "</div>"
      ],
      "text/plain": [
       "        id                        title                author  \\\n",
       "5590  5591  [Live] 灰狼 @ 金塊 (西區第二輪Game1)  jason911152 (你不要過來啊)   \n",
       "\n",
       "                          date  \\\n",
       "5590  Sun May  5 06:30:01 2024   \n",
       "\n",
       "                                                content  \\\n",
       "5590  明尼蘇達灰狼(0-0)VS丹佛金塊(0-0) Game1 即時分數: Mike Conley...   \n",
       "\n",
       "                                               comments category  \n",
       "5590  金塊加油//森林狼贏6-10/這場刺激/金塊罰球應該會比較多 買一張樂透/阿肥加油/金塊主場...      NBA  "
      ]
     },
     "execution_count": 35,
     "metadata": {},
     "output_type": "execute_result"
    }
   ],
   "source": [
    "most_comment_post(df[df['category'] == 'NBA'])"
   ]
  }
 ],
 "metadata": {
  "kernelspec": {
   "display_name": "Python 3.10 (tensorflow)",
   "language": "python",
   "name": "tensorflow"
  },
  "language_info": {
   "codemirror_mode": {
    "name": "ipython",
    "version": 3
   },
   "file_extension": ".py",
   "mimetype": "text/x-python",
   "name": "python",
   "nbconvert_exporter": "python",
   "pygments_lexer": "ipython3",
   "version": "3.10.9"
  }
 },
 "nbformat": 4,
 "nbformat_minor": 2
}
